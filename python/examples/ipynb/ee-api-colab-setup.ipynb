{
  "nbformat": 4,
  "nbformat_minor": 0,
  "metadata": {
    "colab": {
      "name": "ee-api-colab-setup.ipynb",
      "provenance": [],
      "collapsed_sections": [],
      "include_colab_link": true
    },
    "kernelspec": {
      "name": "python3",
      "display_name": "Python 3"
    }
  },
  "cells": [
    {
      "cell_type": "markdown",
      "metadata": {
        "id": "view-in-github",
        "colab_type": "text"
      },
      "source": [
        "<a href=\"https://colab.research.google.com/github/Aru-0406/Model-building_machine-learning-pythone/blob/main/python/examples/ipynb/ee-api-colab-setup.ipynb\" target=\"_parent\"><img src=\"https://colab.research.google.com/assets/colab-badge.svg\" alt=\"Open In Colab\"/></a>"
      ]
    },
    {
      "cell_type": "code",
      "metadata": {
        "id": "krsLgVBYZw_A"
      },
      "source": [
        "#@title Copyright 2019 Google LLC. { display-mode: \"form\" }\n",
        "# Licensed under the Apache License, Version 2.0 (the \"License\");\n",
        "# you may not use this file except in compliance with the License.\n",
        "# You may obtain a copy of the License at\n",
        "#\n",
        "# https://www.apache.org/licenses/LICENSE-2.0\n",
        "#\n",
        "# Unless required by applicable law or agreed to in writing, software\n",
        "# distributed under the License is distributed on an \"AS IS\" BASIS,\n",
        "# WITHOUT WARRANTIES OR CONDITIONS OF ANY KIND, either express or implied.\n",
        "# See the License for the specific language governing permissions and\n",
        "# limitations under the License."
      ],
      "execution_count": 1,
      "outputs": []
    },
    {
      "cell_type": "code",
      "source": [
        "! pip install pyLDAvis"
      ],
      "metadata": {
        "colab": {
          "base_uri": "https://localhost:8080/"
        },
        "id": "-pzW4S8lMHPG",
        "outputId": "62537b3b-7139-440b-ea8e-6ebe6d46f7e1"
      },
      "execution_count": 2,
      "outputs": [
        {
          "output_type": "stream",
          "name": "stdout",
          "text": [
            "Collecting pyLDAvis\n",
            "  Downloading pyLDAvis-3.3.1.tar.gz (1.7 MB)\n",
            "\u001b[?25l\r\u001b[K     |▏                               | 10 kB 30.7 MB/s eta 0:00:01\r\u001b[K     |▍                               | 20 kB 34.7 MB/s eta 0:00:01\r\u001b[K     |▋                               | 30 kB 40.9 MB/s eta 0:00:01\r\u001b[K     |▉                               | 40 kB 17.5 MB/s eta 0:00:01\r\u001b[K     |█                               | 51 kB 12.8 MB/s eta 0:00:01\r\u001b[K     |█▏                              | 61 kB 14.7 MB/s eta 0:00:01\r\u001b[K     |█▍                              | 71 kB 13.2 MB/s eta 0:00:01\r\u001b[K     |█▋                              | 81 kB 14.3 MB/s eta 0:00:01\r\u001b[K     |█▉                              | 92 kB 15.7 MB/s eta 0:00:01\r\u001b[K     |██                              | 102 kB 13.3 MB/s eta 0:00:01\r\u001b[K     |██▏                             | 112 kB 13.3 MB/s eta 0:00:01\r\u001b[K     |██▍                             | 122 kB 13.3 MB/s eta 0:00:01\r\u001b[K     |██▋                             | 133 kB 13.3 MB/s eta 0:00:01\r\u001b[K     |██▊                             | 143 kB 13.3 MB/s eta 0:00:01\r\u001b[K     |███                             | 153 kB 13.3 MB/s eta 0:00:01\r\u001b[K     |███▏                            | 163 kB 13.3 MB/s eta 0:00:01\r\u001b[K     |███▍                            | 174 kB 13.3 MB/s eta 0:00:01\r\u001b[K     |███▋                            | 184 kB 13.3 MB/s eta 0:00:01\r\u001b[K     |███▊                            | 194 kB 13.3 MB/s eta 0:00:01\r\u001b[K     |████                            | 204 kB 13.3 MB/s eta 0:00:01\r\u001b[K     |████▏                           | 215 kB 13.3 MB/s eta 0:00:01\r\u001b[K     |████▍                           | 225 kB 13.3 MB/s eta 0:00:01\r\u001b[K     |████▋                           | 235 kB 13.3 MB/s eta 0:00:01\r\u001b[K     |████▊                           | 245 kB 13.3 MB/s eta 0:00:01\r\u001b[K     |█████                           | 256 kB 13.3 MB/s eta 0:00:01\r\u001b[K     |█████▏                          | 266 kB 13.3 MB/s eta 0:00:01\r\u001b[K     |█████▍                          | 276 kB 13.3 MB/s eta 0:00:01\r\u001b[K     |█████▌                          | 286 kB 13.3 MB/s eta 0:00:01\r\u001b[K     |█████▊                          | 296 kB 13.3 MB/s eta 0:00:01\r\u001b[K     |██████                          | 307 kB 13.3 MB/s eta 0:00:01\r\u001b[K     |██████▏                         | 317 kB 13.3 MB/s eta 0:00:01\r\u001b[K     |██████▍                         | 327 kB 13.3 MB/s eta 0:00:01\r\u001b[K     |██████▌                         | 337 kB 13.3 MB/s eta 0:00:01\r\u001b[K     |██████▊                         | 348 kB 13.3 MB/s eta 0:00:01\r\u001b[K     |███████                         | 358 kB 13.3 MB/s eta 0:00:01\r\u001b[K     |███████▏                        | 368 kB 13.3 MB/s eta 0:00:01\r\u001b[K     |███████▎                        | 378 kB 13.3 MB/s eta 0:00:01\r\u001b[K     |███████▌                        | 389 kB 13.3 MB/s eta 0:00:01\r\u001b[K     |███████▊                        | 399 kB 13.3 MB/s eta 0:00:01\r\u001b[K     |████████                        | 409 kB 13.3 MB/s eta 0:00:01\r\u001b[K     |████████▏                       | 419 kB 13.3 MB/s eta 0:00:01\r\u001b[K     |████████▎                       | 430 kB 13.3 MB/s eta 0:00:01\r\u001b[K     |████████▌                       | 440 kB 13.3 MB/s eta 0:00:01\r\u001b[K     |████████▊                       | 450 kB 13.3 MB/s eta 0:00:01\r\u001b[K     |█████████                       | 460 kB 13.3 MB/s eta 0:00:01\r\u001b[K     |█████████▏                      | 471 kB 13.3 MB/s eta 0:00:01\r\u001b[K     |█████████▎                      | 481 kB 13.3 MB/s eta 0:00:01\r\u001b[K     |█████████▌                      | 491 kB 13.3 MB/s eta 0:00:01\r\u001b[K     |█████████▊                      | 501 kB 13.3 MB/s eta 0:00:01\r\u001b[K     |██████████                      | 512 kB 13.3 MB/s eta 0:00:01\r\u001b[K     |██████████                      | 522 kB 13.3 MB/s eta 0:00:01\r\u001b[K     |██████████▎                     | 532 kB 13.3 MB/s eta 0:00:01\r\u001b[K     |██████████▌                     | 542 kB 13.3 MB/s eta 0:00:01\r\u001b[K     |██████████▊                     | 552 kB 13.3 MB/s eta 0:00:01\r\u001b[K     |███████████                     | 563 kB 13.3 MB/s eta 0:00:01\r\u001b[K     |███████████                     | 573 kB 13.3 MB/s eta 0:00:01\r\u001b[K     |███████████▎                    | 583 kB 13.3 MB/s eta 0:00:01\r\u001b[K     |███████████▌                    | 593 kB 13.3 MB/s eta 0:00:01\r\u001b[K     |███████████▊                    | 604 kB 13.3 MB/s eta 0:00:01\r\u001b[K     |███████████▉                    | 614 kB 13.3 MB/s eta 0:00:01\r\u001b[K     |████████████                    | 624 kB 13.3 MB/s eta 0:00:01\r\u001b[K     |████████████▎                   | 634 kB 13.3 MB/s eta 0:00:01\r\u001b[K     |████████████▌                   | 645 kB 13.3 MB/s eta 0:00:01\r\u001b[K     |████████████▊                   | 655 kB 13.3 MB/s eta 0:00:01\r\u001b[K     |████████████▉                   | 665 kB 13.3 MB/s eta 0:00:01\r\u001b[K     |█████████████                   | 675 kB 13.3 MB/s eta 0:00:01\r\u001b[K     |█████████████▎                  | 686 kB 13.3 MB/s eta 0:00:01\r\u001b[K     |█████████████▌                  | 696 kB 13.3 MB/s eta 0:00:01\r\u001b[K     |█████████████▊                  | 706 kB 13.3 MB/s eta 0:00:01\r\u001b[K     |█████████████▉                  | 716 kB 13.3 MB/s eta 0:00:01\r\u001b[K     |██████████████                  | 727 kB 13.3 MB/s eta 0:00:01\r\u001b[K     |██████████████▎                 | 737 kB 13.3 MB/s eta 0:00:01\r\u001b[K     |██████████████▌                 | 747 kB 13.3 MB/s eta 0:00:01\r\u001b[K     |██████████████▋                 | 757 kB 13.3 MB/s eta 0:00:01\r\u001b[K     |██████████████▉                 | 768 kB 13.3 MB/s eta 0:00:01\r\u001b[K     |███████████████                 | 778 kB 13.3 MB/s eta 0:00:01\r\u001b[K     |███████████████▎                | 788 kB 13.3 MB/s eta 0:00:01\r\u001b[K     |███████████████▌                | 798 kB 13.3 MB/s eta 0:00:01\r\u001b[K     |███████████████▋                | 808 kB 13.3 MB/s eta 0:00:01\r\u001b[K     |███████████████▉                | 819 kB 13.3 MB/s eta 0:00:01\r\u001b[K     |████████████████                | 829 kB 13.3 MB/s eta 0:00:01\r\u001b[K     |████████████████▎               | 839 kB 13.3 MB/s eta 0:00:01\r\u001b[K     |████████████████▍               | 849 kB 13.3 MB/s eta 0:00:01\r\u001b[K     |████████████████▋               | 860 kB 13.3 MB/s eta 0:00:01\r\u001b[K     |████████████████▉               | 870 kB 13.3 MB/s eta 0:00:01\r\u001b[K     |█████████████████               | 880 kB 13.3 MB/s eta 0:00:01\r\u001b[K     |█████████████████▎              | 890 kB 13.3 MB/s eta 0:00:01\r\u001b[K     |█████████████████▍              | 901 kB 13.3 MB/s eta 0:00:01\r\u001b[K     |█████████████████▋              | 911 kB 13.3 MB/s eta 0:00:01\r\u001b[K     |█████████████████▉              | 921 kB 13.3 MB/s eta 0:00:01\r\u001b[K     |██████████████████              | 931 kB 13.3 MB/s eta 0:00:01\r\u001b[K     |██████████████████▎             | 942 kB 13.3 MB/s eta 0:00:01\r\u001b[K     |██████████████████▍             | 952 kB 13.3 MB/s eta 0:00:01\r\u001b[K     |██████████████████▋             | 962 kB 13.3 MB/s eta 0:00:01\r\u001b[K     |██████████████████▉             | 972 kB 13.3 MB/s eta 0:00:01\r\u001b[K     |███████████████████             | 983 kB 13.3 MB/s eta 0:00:01\r\u001b[K     |███████████████████▏            | 993 kB 13.3 MB/s eta 0:00:01\r\u001b[K     |███████████████████▍            | 1.0 MB 13.3 MB/s eta 0:00:01\r\u001b[K     |███████████████████▋            | 1.0 MB 13.3 MB/s eta 0:00:01\r\u001b[K     |███████████████████▉            | 1.0 MB 13.3 MB/s eta 0:00:01\r\u001b[K     |████████████████████            | 1.0 MB 13.3 MB/s eta 0:00:01\r\u001b[K     |████████████████████▏           | 1.0 MB 13.3 MB/s eta 0:00:01\r\u001b[K     |████████████████████▍           | 1.1 MB 13.3 MB/s eta 0:00:01\r\u001b[K     |████████████████████▋           | 1.1 MB 13.3 MB/s eta 0:00:01\r\u001b[K     |████████████████████▉           | 1.1 MB 13.3 MB/s eta 0:00:01\r\u001b[K     |█████████████████████           | 1.1 MB 13.3 MB/s eta 0:00:01\r\u001b[K     |█████████████████████▏          | 1.1 MB 13.3 MB/s eta 0:00:01\r\u001b[K     |█████████████████████▍          | 1.1 MB 13.3 MB/s eta 0:00:01\r\u001b[K     |█████████████████████▋          | 1.1 MB 13.3 MB/s eta 0:00:01\r\u001b[K     |█████████████████████▉          | 1.1 MB 13.3 MB/s eta 0:00:01\r\u001b[K     |██████████████████████          | 1.1 MB 13.3 MB/s eta 0:00:01\r\u001b[K     |██████████████████████▏         | 1.1 MB 13.3 MB/s eta 0:00:01\r\u001b[K     |██████████████████████▍         | 1.2 MB 13.3 MB/s eta 0:00:01\r\u001b[K     |██████████████████████▋         | 1.2 MB 13.3 MB/s eta 0:00:01\r\u001b[K     |██████████████████████▉         | 1.2 MB 13.3 MB/s eta 0:00:01\r\u001b[K     |███████████████████████         | 1.2 MB 13.3 MB/s eta 0:00:01\r\u001b[K     |███████████████████████▏        | 1.2 MB 13.3 MB/s eta 0:00:01\r\u001b[K     |███████████████████████▍        | 1.2 MB 13.3 MB/s eta 0:00:01\r\u001b[K     |███████████████████████▋        | 1.2 MB 13.3 MB/s eta 0:00:01\r\u001b[K     |███████████████████████▊        | 1.2 MB 13.3 MB/s eta 0:00:01\r\u001b[K     |████████████████████████        | 1.2 MB 13.3 MB/s eta 0:00:01\r\u001b[K     |████████████████████████▏       | 1.2 MB 13.3 MB/s eta 0:00:01\r\u001b[K     |████████████████████████▍       | 1.3 MB 13.3 MB/s eta 0:00:01\r\u001b[K     |████████████████████████▋       | 1.3 MB 13.3 MB/s eta 0:00:01\r\u001b[K     |████████████████████████▊       | 1.3 MB 13.3 MB/s eta 0:00:01\r\u001b[K     |█████████████████████████       | 1.3 MB 13.3 MB/s eta 0:00:01\r\u001b[K     |█████████████████████████▏      | 1.3 MB 13.3 MB/s eta 0:00:01\r\u001b[K     |█████████████████████████▍      | 1.3 MB 13.3 MB/s eta 0:00:01\r\u001b[K     |█████████████████████████▌      | 1.3 MB 13.3 MB/s eta 0:00:01\r\u001b[K     |█████████████████████████▊      | 1.3 MB 13.3 MB/s eta 0:00:01\r\u001b[K     |██████████████████████████      | 1.3 MB 13.3 MB/s eta 0:00:01\r\u001b[K     |██████████████████████████▏     | 1.4 MB 13.3 MB/s eta 0:00:01\r\u001b[K     |██████████████████████████▍     | 1.4 MB 13.3 MB/s eta 0:00:01\r\u001b[K     |██████████████████████████▌     | 1.4 MB 13.3 MB/s eta 0:00:01\r\u001b[K     |██████████████████████████▊     | 1.4 MB 13.3 MB/s eta 0:00:01\r\u001b[K     |███████████████████████████     | 1.4 MB 13.3 MB/s eta 0:00:01\r\u001b[K     |███████████████████████████▏    | 1.4 MB 13.3 MB/s eta 0:00:01\r\u001b[K     |███████████████████████████▍    | 1.4 MB 13.3 MB/s eta 0:00:01\r\u001b[K     |███████████████████████████▌    | 1.4 MB 13.3 MB/s eta 0:00:01\r\u001b[K     |███████████████████████████▊    | 1.4 MB 13.3 MB/s eta 0:00:01\r\u001b[K     |████████████████████████████    | 1.4 MB 13.3 MB/s eta 0:00:01\r\u001b[K     |████████████████████████████▏   | 1.5 MB 13.3 MB/s eta 0:00:01\r\u001b[K     |████████████████████████████▎   | 1.5 MB 13.3 MB/s eta 0:00:01\r\u001b[K     |████████████████████████████▌   | 1.5 MB 13.3 MB/s eta 0:00:01\r\u001b[K     |████████████████████████████▊   | 1.5 MB 13.3 MB/s eta 0:00:01\r\u001b[K     |█████████████████████████████   | 1.5 MB 13.3 MB/s eta 0:00:01\r\u001b[K     |█████████████████████████████▏  | 1.5 MB 13.3 MB/s eta 0:00:01\r\u001b[K     |█████████████████████████████▎  | 1.5 MB 13.3 MB/s eta 0:00:01\r\u001b[K     |█████████████████████████████▌  | 1.5 MB 13.3 MB/s eta 0:00:01\r\u001b[K     |█████████████████████████████▊  | 1.5 MB 13.3 MB/s eta 0:00:01\r\u001b[K     |██████████████████████████████  | 1.5 MB 13.3 MB/s eta 0:00:01\r\u001b[K     |██████████████████████████████▏ | 1.6 MB 13.3 MB/s eta 0:00:01\r\u001b[K     |██████████████████████████████▎ | 1.6 MB 13.3 MB/s eta 0:00:01\r\u001b[K     |██████████████████████████████▌ | 1.6 MB 13.3 MB/s eta 0:00:01\r\u001b[K     |██████████████████████████████▊ | 1.6 MB 13.3 MB/s eta 0:00:01\r\u001b[K     |███████████████████████████████ | 1.6 MB 13.3 MB/s eta 0:00:01\r\u001b[K     |███████████████████████████████ | 1.6 MB 13.3 MB/s eta 0:00:01\r\u001b[K     |███████████████████████████████▎| 1.6 MB 13.3 MB/s eta 0:00:01\r\u001b[K     |███████████████████████████████▌| 1.6 MB 13.3 MB/s eta 0:00:01\r\u001b[K     |███████████████████████████████▊| 1.6 MB 13.3 MB/s eta 0:00:01\r\u001b[K     |████████████████████████████████| 1.6 MB 13.3 MB/s eta 0:00:01\r\u001b[K     |████████████████████████████████| 1.7 MB 13.3 MB/s \n",
            "\u001b[?25h  Installing build dependencies ... \u001b[?25l\u001b[?25hdone\n",
            "  Getting requirements to build wheel ... \u001b[?25l\u001b[?25hdone\n",
            "  Installing backend dependencies ... \u001b[?25l\u001b[?25hdone\n",
            "    Preparing wheel metadata ... \u001b[?25l\u001b[?25hdone\n",
            "Requirement already satisfied: pandas>=1.2.0 in /usr/local/lib/python3.7/dist-packages (from pyLDAvis) (1.3.5)\n",
            "Requirement already satisfied: jinja2 in /usr/local/lib/python3.7/dist-packages (from pyLDAvis) (2.11.3)\n",
            "Requirement already satisfied: gensim in /usr/local/lib/python3.7/dist-packages (from pyLDAvis) (3.6.0)\n",
            "Requirement already satisfied: scikit-learn in /usr/local/lib/python3.7/dist-packages (from pyLDAvis) (1.0.2)\n",
            "Requirement already satisfied: joblib in /usr/local/lib/python3.7/dist-packages (from pyLDAvis) (1.1.0)\n",
            "Collecting funcy\n",
            "  Downloading funcy-1.17-py2.py3-none-any.whl (33 kB)\n",
            "Requirement already satisfied: future in /usr/local/lib/python3.7/dist-packages (from pyLDAvis) (0.16.0)\n",
            "Requirement already satisfied: sklearn in /usr/local/lib/python3.7/dist-packages (from pyLDAvis) (0.0)\n",
            "Requirement already satisfied: numexpr in /usr/local/lib/python3.7/dist-packages (from pyLDAvis) (2.8.1)\n",
            "Requirement already satisfied: numpy>=1.20.0 in /usr/local/lib/python3.7/dist-packages (from pyLDAvis) (1.21.6)\n",
            "Requirement already satisfied: setuptools in /usr/local/lib/python3.7/dist-packages (from pyLDAvis) (57.4.0)\n",
            "Requirement already satisfied: scipy in /usr/local/lib/python3.7/dist-packages (from pyLDAvis) (1.4.1)\n",
            "Requirement already satisfied: python-dateutil>=2.7.3 in /usr/local/lib/python3.7/dist-packages (from pandas>=1.2.0->pyLDAvis) (2.8.2)\n",
            "Requirement already satisfied: pytz>=2017.3 in /usr/local/lib/python3.7/dist-packages (from pandas>=1.2.0->pyLDAvis) (2022.1)\n",
            "Requirement already satisfied: six>=1.5 in /usr/local/lib/python3.7/dist-packages (from python-dateutil>=2.7.3->pandas>=1.2.0->pyLDAvis) (1.15.0)\n",
            "Requirement already satisfied: smart-open>=1.2.1 in /usr/local/lib/python3.7/dist-packages (from gensim->pyLDAvis) (6.0.0)\n",
            "Requirement already satisfied: MarkupSafe>=0.23 in /usr/local/lib/python3.7/dist-packages (from jinja2->pyLDAvis) (2.0.1)\n",
            "Requirement already satisfied: packaging in /usr/local/lib/python3.7/dist-packages (from numexpr->pyLDAvis) (21.3)\n",
            "Requirement already satisfied: pyparsing!=3.0.5,>=2.0.2 in /usr/local/lib/python3.7/dist-packages (from packaging->numexpr->pyLDAvis) (3.0.9)\n",
            "Requirement already satisfied: threadpoolctl>=2.0.0 in /usr/local/lib/python3.7/dist-packages (from scikit-learn->pyLDAvis) (3.1.0)\n",
            "Building wheels for collected packages: pyLDAvis\n",
            "  Building wheel for pyLDAvis (PEP 517) ... \u001b[?25l\u001b[?25hdone\n",
            "  Created wheel for pyLDAvis: filename=pyLDAvis-3.3.1-py2.py3-none-any.whl size=136898 sha256=9fb67287db4e6fd89208f7fec6c84cebf72bb2f2c017ecc7eeac5ab506dbe9d1\n",
            "  Stored in directory: /root/.cache/pip/wheels/c9/21/f6/17bcf2667e8a68532ba2fbf6d5c72fdf4c7f7d9abfa4852d2f\n",
            "Successfully built pyLDAvis\n",
            "Installing collected packages: funcy, pyLDAvis\n",
            "Successfully installed funcy-1.17 pyLDAvis-3.3.1\n"
          ]
        }
      ]
    },
    {
      "cell_type": "code",
      "source": [
        "import nltk\n",
        "nltk.download('stopwords')\n",
        "from nltk.corpus import stopwords\n",
        "stopwords = stopwords.words('english')\n",
        "\n",
        "#stop_words = list(stopwords.words('english'))"
      ],
      "metadata": {
        "colab": {
          "base_uri": "https://localhost:8080/"
        },
        "id": "bh2wmw1nNr8t",
        "outputId": "d30b057a-c319-414e-f0c1-6fd13f3fc632"
      },
      "execution_count": 3,
      "outputs": [
        {
          "output_type": "stream",
          "name": "stdout",
          "text": [
            "[nltk_data] Downloading package stopwords to /root/nltk_data...\n",
            "[nltk_data]   Unzipping corpora/stopwords.zip.\n"
          ]
        }
      ]
    },
    {
      "cell_type": "markdown",
      "metadata": {
        "id": "aV1xZ1CPi3Nw"
      },
      "source": [
        "<table class=\"ee-notebook-buttons\" align=\"left\"><td>\n",
        "<a target=\"_blank\"  href=\"http://colab.research.google.com/github/google/earthengine-api/blob/master/python/examples/ipynb/ee-api-colab-setup.ipynb\">\n",
        "    <img src=\"https://www.tensorflow.org/images/colab_logo_32px.png\" /> Run in Google Colab</a>\n",
        "</td><td>\n",
        "<a target=\"_blank\"  href=\"https://github.com/google/earthengine-api/blob/master/python/examples/ipynb/ee-api-colab-setup.ipynb\"><img width=32px src=\"https://www.tensorflow.org/images/GitHub-Mark-32px.png\" /> View source on GitHub</a></td></table>"
      ]
    },
    {
      "cell_type": "code",
      "source": [
        "from nltk.corpus import stopwords\n",
        "stopwords = stopwords.words('english')"
      ],
      "metadata": {
        "id": "0eiJt8kqbilR"
      },
      "execution_count": 4,
      "outputs": []
    },
    {
      "cell_type": "code",
      "source": [
        "pip install pyLDAvis.gensim"
      ],
      "metadata": {
        "colab": {
          "base_uri": "https://localhost:8080/"
        },
        "id": "GrfNk6EVVbQu",
        "outputId": "19f2cf03-d20e-46ef-da32-0caa3ba81bdf"
      },
      "execution_count": 5,
      "outputs": [
        {
          "output_type": "stream",
          "name": "stdout",
          "text": [
            "\u001b[31mERROR: Could not find a version that satisfies the requirement pyLDAvis.gensim (from versions: none)\u001b[0m\n",
            "\u001b[31mERROR: No matching distribution found for pyLDAvis.gensim\u001b[0m\n"
          ]
        }
      ]
    },
    {
      "cell_type": "code",
      "source": [
        "text=\"\"\" Soaring inflation, supply chain issues and the hit from the Ukraine war will bring an end to the growth boom India's IT services industry enjoyed during the pandemic, J.P.Morgan analysts said on Thursday as they downgraded the sector to \"underweight\".\n",
        "The $194-billion sector whose software services helped businesses adopt to pandemic-era practices of online shopping and remote working is facing a demand slowdown this year as employees return to offices and the Russia-Ukraine war weighs on spending from clients in Europe\"\"\"\n"
      ],
      "metadata": {
        "id": "LJLm3CZlb4p_"
      },
      "execution_count": 6,
      "outputs": []
    },
    {
      "cell_type": "markdown",
      "source": [
        "# New Section"
      ],
      "metadata": {
        "id": "BdD6TgzVNVeX"
      }
    },
    {
      "cell_type": "code",
      "source": [
        "text1=\"\"\"Reserve Bank Governor Shaktikanta Das has asked banks to remain watchful of the ongoing geopolitical developments and proactively take mitigating measures, including raising capital, to minimise the potential impact on their balance sheets.\n",
        "\n",
        "\n",
        "The governor along with other RBI officials held meetings with MD and CEOs of select public and sector banks on Wednesday and the day before, the Reserve Bank of India (RBI) said in a statement.\n",
        "\n",
        "In his introductory remarks, Das noted the \"key role\" played by the banks in supporting the economy throughout the pandemic.\n",
        "\n",
        "Further, he said the banking sector has remained resilient and has continued to improve despite facing various headwinds.\n",
        "\n",
        "\"He advised the banks to remain watchful of the recent geopolitical developments and take mitigating measures proactively, including raising of capital for ensuring that the potential impact on their balance sheets are minimised,\" RBI said.\n",
        "\n",
        "Das also asked the banks to pay specific attention to further improve their grievance redress systems and continue to provide necessary support to the ongoing revival of economic activity.\n",
        "\n",
        "Among other matters, issues relating to credit off-take, outlook on asset quality, collection efficiency, consumer grievance redress, setting up of Digital Banking Units, resilience of IT infrastructure and cyber security defences in banks, were discussed.\"\"\""
      ],
      "metadata": {
        "id": "imxrW7v_fKYL"
      },
      "execution_count": 7,
      "outputs": []
    },
    {
      "cell_type": "code",
      "source": [
        "data = [text,text1]"
      ],
      "metadata": {
        "id": "Z2SHhcO0f0gV"
      },
      "execution_count": 8,
      "outputs": []
    },
    {
      "cell_type": "code",
      "source": [
        "data"
      ],
      "metadata": {
        "colab": {
          "base_uri": "https://localhost:8080/"
        },
        "id": "3o9wF_UUgcbc",
        "outputId": "2d07d978-b122-4411-8e3e-a8f22c7a9afb"
      },
      "execution_count": 9,
      "outputs": [
        {
          "output_type": "execute_result",
          "data": {
            "text/plain": [
              "[' Soaring inflation, supply chain issues and the hit from the Ukraine war will bring an end to the growth boom India\\'s IT services industry enjoyed during the pandemic, J.P.Morgan analysts said on Thursday as they downgraded the sector to \"underweight\".\\nThe $194-billion sector whose software services helped businesses adopt to pandemic-era practices of online shopping and remote working is facing a demand slowdown this year as employees return to offices and the Russia-Ukraine war weighs on spending from clients in Europe',\n",
              " 'Reserve Bank Governor Shaktikanta Das has asked banks to remain watchful of the ongoing geopolitical developments and proactively take mitigating measures, including raising capital, to minimise the potential impact on their balance sheets.\\n\\n\\nThe governor along with other RBI officials held meetings with MD and CEOs of select public and sector banks on Wednesday and the day before, the Reserve Bank of India (RBI) said in a statement.\\n\\nIn his introductory remarks, Das noted the \"key role\" played by the banks in supporting the economy throughout the pandemic.\\n\\nFurther, he said the banking sector has remained resilient and has continued to improve despite facing various headwinds.\\n\\n\"He advised the banks to remain watchful of the recent geopolitical developments and take mitigating measures proactively, including raising of capital for ensuring that the potential impact on their balance sheets are minimised,\" RBI said.\\n\\nDas also asked the banks to pay specific attention to further improve their grievance redress systems and continue to provide necessary support to the ongoing revival of economic activity.\\n\\nAmong other matters, issues relating to credit off-take, outlook on asset quality, collection efficiency, consumer grievance redress, setting up of Digital Banking Units, resilience of IT infrastructure and cyber security defences in banks, were discussed.']"
            ]
          },
          "metadata": {},
          "execution_count": 9
        }
      ]
    },
    {
      "cell_type": "code",
      "source": [
        "len(data)"
      ],
      "metadata": {
        "colab": {
          "base_uri": "https://localhost:8080/"
        },
        "id": "lGffv8m_guUG",
        "outputId": "9524921e-cd42-4484-ce3d-a9503597ff31"
      },
      "execution_count": 10,
      "outputs": [
        {
          "output_type": "execute_result",
          "data": {
            "text/plain": [
              "2"
            ]
          },
          "metadata": {},
          "execution_count": 10
        }
      ]
    },
    {
      "cell_type": "code",
      "source": [
        "import re\n",
        "import numpy as np\n",
        "import pandas as pd\n",
        "from pprint import pprint\n",
        "\n",
        " # Gensim\n",
        "\n",
        "import gensim \n",
        "import gensim.corpora as corpora\n",
        "from gensim.utils import simple_preprocess\n",
        "from gensim.models import coherencemodel\n",
        "\n",
        "# Spacy for lemmatization\n",
        "\n",
        "import spacy\n",
        "\n",
        "\n",
        "# Plotting tools\n",
        "import pyLDAvis\n",
        "import pyLDAvis.gensim_models  # don't skip this\n",
        "import matplotlib.pyplot as plt\n",
        "%matplotlib inline\n",
        "\n",
        "#import pyLDAvis.gensim_models--to update gensim for 3.3.0 version\n",
        "\n",
        "# Enable logging for gensim - optional\n",
        "import logging\n",
        "logging.basicConfig(format='%(asctime)s : %(levelname)s : %(message)s', level=logging.ERROR)\n",
        "\n",
        "import warnings\n",
        "warnings.filterwarnings(\"ignore\",category=DeprecationWarning)\n"
      ],
      "metadata": {
        "colab": {
          "base_uri": "https://localhost:8080/"
        },
        "id": "Gd5PXz1Pbc-W",
        "outputId": "c6406b01-c53f-4fc8-85dc-0344561060bc"
      },
      "execution_count": 11,
      "outputs": [
        {
          "output_type": "stream",
          "name": "stderr",
          "text": [
            "/usr/local/lib/python3.7/dist-packages/past/types/oldstr.py:5: DeprecationWarning: Using or importing the ABCs from 'collections' instead of from 'collections.abc' is deprecated since Python 3.3,and in 3.9 it will stop working\n",
            "  from collections import Iterable\n"
          ]
        }
      ]
    },
    {
      "cell_type": "code",
      "source": [
        "\n",
        "\n",
        "# Remove Emails\n",
        "data = [re.sub('\\S*@\\S*\\s?', '', sent) for sent in data]\n",
        "\n",
        "# Remove new line characters\n",
        "data = [re.sub('\\s+', ' ', sent) for sent in data]\n",
        "\n",
        "# Remove distracting single quotes\n",
        "data = [re.sub(\"\\'\", \"\", sent) for sent in data]\n",
        "\n",
        "pprint(data[:1])\n",
        "        \n",
        " "
      ],
      "metadata": {
        "colab": {
          "base_uri": "https://localhost:8080/"
        },
        "id": "6EPERkvS47Tc",
        "outputId": "7a7f8006-cd19-4353-dea5-5848e05efed0"
      },
      "execution_count": 12,
      "outputs": [
        {
          "output_type": "stream",
          "name": "stdout",
          "text": [
            "[' Soaring inflation, supply chain issues and the hit from the Ukraine war '\n",
            " 'will bring an end to the growth boom Indias IT services industry enjoyed '\n",
            " 'during the pandemic, J.P.Morgan analysts said on Thursday as they downgraded '\n",
            " 'the sector to \"underweight\". The $194-billion sector whose software services '\n",
            " 'helped businesses adopt to pandemic-era practices of online shopping and '\n",
            " 'remote working is facing a demand slowdown this year as employees return to '\n",
            " 'offices and the Russia-Ukraine war weighs on spending from clients in Europe']\n"
          ]
        }
      ]
    },
    {
      "cell_type": "code",
      "source": [
        ""
      ],
      "metadata": {
        "id": "Y5jxDKgXIlGI"
      },
      "execution_count": 12,
      "outputs": []
    },
    {
      "cell_type": "code",
      "source": [
        "print(len(data[0]))"
      ],
      "metadata": {
        "colab": {
          "base_uri": "https://localhost:8080/"
        },
        "id": "URMsFIwfRLBX",
        "outputId": "63a5735e-ca60-402f-8ba2-8cb6a4b3ba52"
      },
      "execution_count": 13,
      "outputs": [
        {
          "output_type": "stream",
          "name": "stdout",
          "text": [
            "525\n"
          ]
        }
      ]
    },
    {
      "cell_type": "code",
      "source": [
        "def sent_to_words(sentences):\n",
        "    for sentence in sentences:\n",
        "        yield(gensim.utils.simple_preprocess(str(sentence), deacc=True))  # deacc=True removes punctuations\n",
        "\n",
        "data_words = list(sent_to_words(data))\n",
        "\n",
        "print(data_words[:1])"
      ],
      "metadata": {
        "colab": {
          "base_uri": "https://localhost:8080/"
        },
        "id": "kxUKSAFzRsYl",
        "outputId": "0f5c56b2-b494-4f58-aa8e-fd4d871a1fd2"
      },
      "execution_count": 14,
      "outputs": [
        {
          "output_type": "stream",
          "name": "stdout",
          "text": [
            "[['soaring', 'inflation', 'supply', 'chain', 'issues', 'and', 'the', 'hit', 'from', 'the', 'ukraine', 'war', 'will', 'bring', 'an', 'end', 'to', 'the', 'growth', 'boom', 'indias', 'it', 'services', 'industry', 'enjoyed', 'during', 'the', 'pandemic', 'morgan', 'analysts', 'said', 'on', 'thursday', 'as', 'they', 'downgraded', 'the', 'sector', 'to', 'underweight', 'the', 'billion', 'sector', 'whose', 'software', 'services', 'helped', 'businesses', 'adopt', 'to', 'pandemic', 'era', 'practices', 'of', 'online', 'shopping', 'and', 'remote', 'working', 'is', 'facing', 'demand', 'slowdown', 'this', 'year', 'as', 'employees', 'return', 'to', 'offices', 'and', 'the', 'russia', 'ukraine', 'war', 'weighs', 'on', 'spending', 'from', 'clients', 'in', 'europe']]\n"
          ]
        }
      ]
    },
    {
      "cell_type": "code",
      "source": [
        "# Build the bigram and trigram models\n",
        "bigram = gensim.models.Phrases(data_words, min_count=5, threshold=100) # higher threshold fewer phrases.\n",
        "trigram = gensim.models.Phrases(bigram[data_words], threshold=100)  \n",
        "\n",
        "# Faster way to get a sentence clubbed as a trigram/bigram\n",
        "bigram_mod = gensim.models.phrases.Phraser(bigram)\n",
        "trigram_mod = gensim.models.phrases.Phraser(trigram)\n",
        "\n",
        "# See trigram example\n",
        "print(trigram_mod[bigram_mod[data_words[0]]])"
      ],
      "metadata": {
        "colab": {
          "base_uri": "https://localhost:8080/"
        },
        "id": "WYI6xAo5Sor0",
        "outputId": "fb2bd4c6-eaa0-4ea3-abab-d483ceedbf45"
      },
      "execution_count": 15,
      "outputs": [
        {
          "output_type": "stream",
          "name": "stdout",
          "text": [
            "['soaring', 'inflation', 'supply', 'chain', 'issues', 'and', 'the', 'hit', 'from', 'the', 'ukraine', 'war', 'will', 'bring', 'an', 'end', 'to', 'the', 'growth', 'boom', 'indias', 'it', 'services', 'industry', 'enjoyed', 'during', 'the', 'pandemic', 'morgan', 'analysts', 'said', 'on', 'thursday', 'as', 'they', 'downgraded', 'the', 'sector', 'to', 'underweight', 'the', 'billion', 'sector', 'whose', 'software', 'services', 'helped', 'businesses', 'adopt', 'to', 'pandemic', 'era', 'practices', 'of', 'online', 'shopping', 'and', 'remote', 'working', 'is', 'facing', 'demand', 'slowdown', 'this', 'year', 'as', 'employees', 'return', 'to', 'offices', 'and', 'the', 'russia', 'ukraine', 'war', 'weighs', 'on', 'spending', 'from', 'clients', 'in', 'europe']\n"
          ]
        },
        {
          "output_type": "stream",
          "name": "stderr",
          "text": [
            "/usr/local/lib/python3.7/dist-packages/gensim/models/phrases.py:598: UserWarning: For a faster implementation, use the gensim.models.phrases.Phraser class\n",
            "  warnings.warn(\"For a faster implementation, use the gensim.models.phrases.Phraser class\")\n"
          ]
        }
      ]
    },
    {
      "cell_type": "code",
      "source": [
        "# Define functions for stopwords, bigrams, trigrams and lemmatization\n",
        "def remove_stopwords(texts):\n",
        "    return [[word for word in simple_preprocess(str(doc)) if word not in stop_words] for doc in texts]\n",
        "\n",
        "def make_bigrams(texts):\n",
        "    return [bigram_mod[doc] for doc in texts]\n",
        "\n",
        "def make_trigrams(texts):\n",
        "    return [trigram_mod[bigram_mod[doc]] for doc in texts]\n",
        "\n",
        "def lemmatization(texts, allowed_postags=['NOUN', 'ADJ', 'VERB', 'ADV']):\n",
        "    \"\"\"https://spacy.io/api/annotation\"\"\"\n",
        "    texts_out = []\n",
        "    for sent in texts:\n",
        "        doc = nlp(\" \".join(sent)) \n",
        "        texts_out.append([token.lemma_ for token in doc if token.pos_ in allowed_postags])\n",
        "    return texts_out"
      ],
      "metadata": {
        "id": "qxEF4UILUAfE"
      },
      "execution_count": 16,
      "outputs": []
    },
    {
      "cell_type": "code",
      "source": [
        "from nltk.corpus import stopwords"
      ],
      "metadata": {
        "id": "HbilSK8PbDF3"
      },
      "execution_count": 17,
      "outputs": []
    },
    {
      "cell_type": "code",
      "source": [
        "stop_words = list(stopwords.words('english')) # to remove the error stopwords not defined.."
      ],
      "metadata": {
        "id": "bviX1zxfee7B"
      },
      "execution_count": 18,
      "outputs": []
    },
    {
      "cell_type": "code",
      "source": [
        "# Remove Stop Words\n",
        "data_words_nostops = remove_stopwords(data_words)\n",
        "\n",
        "# Form Bigrams\n",
        "data_words_bigrams = make_bigrams(data_words_nostops)\n",
        "\n",
        "# Initialize spacy 'en' model, keeping only tagger component (for efficiency)\n",
        "# python3 -m spacy download en\n",
        "nlp = spacy.load('en', disable=['parser', 'ner'])\n",
        "\n",
        "# Do lemmatization keeping only noun, adj, vb, adv\n",
        "data_lemmatized = lemmatization(data_words_bigrams, allowed_postags=['NOUN', 'ADJ', 'VERB', 'ADV'])\n",
        "\n",
        "print(data_lemmatized[:1])"
      ],
      "metadata": {
        "colab": {
          "base_uri": "https://localhost:8080/"
        },
        "id": "vig9BcEZXkMu",
        "outputId": "5f241414-2c81-4fa3-813c-12dae530df9f"
      },
      "execution_count": 19,
      "outputs": [
        {
          "output_type": "stream",
          "name": "stdout",
          "text": [
            "[['soar', 'inflation', 'supply', 'chain', 'issue', 'hit', 'war', 'bring', 'end', 'growth', 'boom', 'india', 'service', 'industry', 'enjoy', 'analyst', 'say', 'downgrade', 'sector', 'underweight', 'sector', 'software', 'service', 'help', 'business', 'adopt', 'pandemic', 'era', 'practice', 'online', 'shopping', 'remote', 'work', 'face', 'demand', 'slowdown', 'year', 'employee', 'return', 'office', 'weigh', 'spending', 'client']]\n"
          ]
        }
      ]
    },
    {
      "cell_type": "code",
      "source": [
        "# Create Dictionary\n",
        "id2word = corpora.Dictionary(data_lemmatized)\n",
        "\n",
        "# Create Corpus\n",
        "texts = data_lemmatized\n",
        "\n",
        "# Term Document Frequency\n",
        "corpus = [id2word.doc2bow(text) for text in texts]\n",
        "\n",
        "# View\n",
        "print(corpus[:1])  #Gensim creates a unique id for each word in the document. The produced corpus shown above is a mapping of (word_id, word_frequency)."
      ],
      "metadata": {
        "colab": {
          "base_uri": "https://localhost:8080/"
        },
        "id": "R7DbScwVUV78",
        "outputId": "a97465ae-1c97-4166-86eb-ffda34448aa7"
      },
      "execution_count": 20,
      "outputs": [
        {
          "output_type": "stream",
          "name": "stdout",
          "text": [
            "[[(0, 1), (1, 1), (2, 1), (3, 1), (4, 1), (5, 1), (6, 1), (7, 1), (8, 1), (9, 1), (10, 1), (11, 1), (12, 1), (13, 1), (14, 1), (15, 1), (16, 1), (17, 1), (18, 1), (19, 1), (20, 1), (21, 1), (22, 1), (23, 1), (24, 1), (25, 1), (26, 1), (27, 1), (28, 2), (29, 2), (30, 1), (31, 1), (32, 1), (33, 1), (34, 1), (35, 1), (36, 1), (37, 1), (38, 1), (39, 1), (40, 1)]]\n"
          ]
        }
      ]
    },
    {
      "cell_type": "code",
      "source": [
        "id2word[0]  #If you want to see what word a given id corresponds to, pass the id as a key to the dictionary."
      ],
      "metadata": {
        "colab": {
          "base_uri": "https://localhost:8080/",
          "height": 36
        },
        "id": "qO1iQOV-k04x",
        "outputId": "b3d0f252-6cdd-49e7-c100-8e11a3343360"
      },
      "execution_count": 21,
      "outputs": [
        {
          "output_type": "execute_result",
          "data": {
            "text/plain": [
              "'adopt'"
            ],
            "application/vnd.google.colaboratory.intrinsic+json": {
              "type": "string"
            }
          },
          "metadata": {},
          "execution_count": 21
        }
      ]
    },
    {
      "cell_type": "code",
      "source": [
        "'addition'"
      ],
      "metadata": {
        "id": "abPeeBZqk1Vn"
      },
      "execution_count": null,
      "outputs": []
    },
    {
      "cell_type": "code",
      "source": [
        "[[(id2word[id], freq) for id, freq in cp] for cp in corpus[:1]]"
      ],
      "metadata": {
        "colab": {
          "base_uri": "https://localhost:8080/"
        },
        "id": "SNRhPtSfg4Zt",
        "outputId": "31b6cf48-531d-4e23-c6b4-5b9bf3cb6329"
      },
      "execution_count": 23,
      "outputs": [
        {
          "output_type": "execute_result",
          "data": {
            "text/plain": [
              "[[('adopt', 1),\n",
              "  ('analyst', 1),\n",
              "  ('boom', 1),\n",
              "  ('bring', 1),\n",
              "  ('business', 1),\n",
              "  ('chain', 1),\n",
              "  ('client', 1),\n",
              "  ('demand', 1),\n",
              "  ('downgrade', 1),\n",
              "  ('employee', 1),\n",
              "  ('end', 1),\n",
              "  ('enjoy', 1),\n",
              "  ('era', 1),\n",
              "  ('face', 1),\n",
              "  ('growth', 1),\n",
              "  ('help', 1),\n",
              "  ('hit', 1),\n",
              "  ('india', 1),\n",
              "  ('industry', 1),\n",
              "  ('inflation', 1),\n",
              "  ('issue', 1),\n",
              "  ('office', 1),\n",
              "  ('online', 1),\n",
              "  ('pandemic', 1),\n",
              "  ('practice', 1),\n",
              "  ('remote', 1),\n",
              "  ('return', 1),\n",
              "  ('say', 1),\n",
              "  ('sector', 2),\n",
              "  ('service', 2),\n",
              "  ('shopping', 1),\n",
              "  ('slowdown', 1),\n",
              "  ('soar', 1),\n",
              "  ('software', 1),\n",
              "  ('spending', 1),\n",
              "  ('supply', 1),\n",
              "  ('underweight', 1),\n",
              "  ('war', 1),\n",
              "  ('weigh', 1),\n",
              "  ('work', 1),\n",
              "  ('year', 1)]]"
            ]
          },
          "metadata": {},
          "execution_count": 23
        }
      ]
    },
    {
      "cell_type": "code",
      "source": [
        "# Build LDA model\n",
        "lda_model = gensim.models.ldamodel.LdaModel(corpus=corpus,\n",
        "                                           id2word=id2word,\n",
        "                                           num_topics=20, \n",
        "                                           random_state=100,\n",
        "                                           update_every=1,\n",
        "                                           chunksize=100,\n",
        "                                           passes=10,\n",
        "                                           alpha='auto',\n",
        "                                           per_word_topics=True)"
      ],
      "metadata": {
        "id": "_TZjDgDClAj3"
      },
      "execution_count": null,
      "outputs": []
    },
    {
      "cell_type": "code",
      "metadata": {
        "id": "65RChERMzQHZ"
      },
      "source": [
        "import ee"
      ],
      "execution_count": 24,
      "outputs": []
    }
  ]
}